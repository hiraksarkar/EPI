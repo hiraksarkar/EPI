{
 "cells": [
  {
   "cell_type": "code",
   "execution_count": 27,
   "metadata": {
    "collapsed": false
   },
   "outputs": [],
   "source": [
    "#5.1 Computing parity of a word\n",
    "#Ways\n",
    "#1. Drop the last set bit: Complexity O(k) k: num of set bits\n",
    "def parity_1(x):\n",
    "    result = 0\n",
    "    while(x!=0):\n",
    "        result ^= 1\n",
    "        x &= (x-1)\n",
    "    return result\n",
    "#2. XOR with half: O(log n) for word size 64\n",
    "#def parity_2(x):  "
   ]
  },
  {
   "cell_type": "code",
   "execution_count": 35,
   "metadata": {
    "collapsed": true
   },
   "outputs": [],
   "source": [
    "#5.2 Swap bits i and j\n",
    "# XOR 0^0=0 1^1=0 otherwise 1\n",
    "def swap_bits(x,i,j):\n",
    "    if(((x >> i)&1) != ((x >> j)&1)):\n",
    "        bitMask = (1 << i) | (1 << j)\n",
    "        x ^= bitMask\n",
    "    return x"
   ]
  },
  {
   "cell_type": "code",
   "execution_count": 41,
   "metadata": {
    "collapsed": false
   },
   "outputs": [
    {
     "name": "stdout",
     "output_type": "stream",
     "text": [
      "0b11101010\n",
      "0b11100011\n"
     ]
    }
   ],
   "source": [
    "x = 234\n",
    "print(bin(x))\n",
    "x = swap_bits(x,0,3)\n",
    "print(bin(x))"
   ]
  },
  {
   "cell_type": "code",
   "execution_count": 34,
   "metadata": {
    "collapsed": false
   },
   "outputs": [
    {
     "name": "stdout",
     "output_type": "stream",
     "text": [
      "0b10000\n",
      "0b1111\n",
      "0b10000\n",
      "0b10000\n"
     ]
    }
   ],
   "source": [
    "x = 16\n",
    "print(bin(x))\n",
    "print(bin(x-1))\n",
    "print(bin(x & ~(x-1)))\n",
    "print(bin(x ^ 0))"
   ]
  },
  {
   "cell_type": "code",
   "execution_count": 26,
   "metadata": {
    "collapsed": false
   },
   "outputs": [
    {
     "data": {
      "text/plain": [
       "29"
      ]
     },
     "execution_count": 26,
     "metadata": {},
     "output_type": "execute_result"
    }
   ],
   "source": [
    "x"
   ]
  },
  {
   "cell_type": "code",
   "execution_count": null,
   "metadata": {
    "collapsed": true
   },
   "outputs": [],
   "source": []
  }
 ],
 "metadata": {
  "kernelspec": {
   "display_name": "Python 2",
   "language": "python",
   "name": "python2"
  },
  "language_info": {
   "codemirror_mode": {
    "name": "ipython",
    "version": 2
   },
   "file_extension": ".py",
   "mimetype": "text/x-python",
   "name": "python",
   "nbconvert_exporter": "python",
   "pygments_lexer": "ipython2",
   "version": "2.7.13"
  }
 },
 "nbformat": 4,
 "nbformat_minor": 1
}
